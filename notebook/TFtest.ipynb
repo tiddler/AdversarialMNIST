{
 "cells": [
  {
   "cell_type": "markdown",
   "metadata": {},
   "source": [
    "## This is a Draft for codes in https://www.tensorflow.org/get_started/mnist/pros"
   ]
  },
  {
   "cell_type": "code",
   "execution_count": 1,
   "metadata": {
    "collapsed": true
   },
   "outputs": [],
   "source": [
    "import tensorflow as tf"
   ]
  },
  {
   "cell_type": "code",
   "execution_count": 2,
   "metadata": {
    "collapsed": false
   },
   "outputs": [],
   "source": [
    "from tensorflow.examples.tutorials.mnist import input_data"
   ]
  },
  {
   "cell_type": "code",
   "execution_count": 3,
   "metadata": {
    "collapsed": false
   },
   "outputs": [
    {
     "name": "stdout",
     "output_type": "stream",
     "text": [
      "Extracting /tmp/tensorflow/mnist/input_data/train-images-idx3-ubyte.gz\n",
      "Extracting /tmp/tensorflow/mnist/input_data/train-labels-idx1-ubyte.gz\n",
      "Extracting /tmp/tensorflow/mnist/input_data/t10k-images-idx3-ubyte.gz\n",
      "Extracting /tmp/tensorflow/mnist/input_data/t10k-labels-idx1-ubyte.gz\n"
     ]
    }
   ],
   "source": [
    "mnist = input_data.read_data_sets('/tmp/tensorflow/mnist/input_data', one_hot=True)"
   ]
  },
  {
   "cell_type": "code",
   "execution_count": 4,
   "metadata": {
    "collapsed": true
   },
   "outputs": [],
   "source": [
    "x = tf.placeholder(tf.float32, shape=[None, 784])\n",
    "y_ = tf.placeholder(tf.float32, shape=[None, 10])"
   ]
  },
  {
   "cell_type": "code",
   "execution_count": 7,
   "metadata": {
    "collapsed": true
   },
   "outputs": [],
   "source": [
    "def weight_variable(shape):\n",
    "  initial = tf.truncated_normal(shape, stddev=0.1)\n",
    "  return tf.Variable(initial)\n",
    "\n",
    "def bias_variable(shape):\n",
    "  initial = tf.constant(0.1, shape=shape)\n",
    "  return tf.Variable(initial)"
   ]
  },
  {
   "cell_type": "code",
   "execution_count": 8,
   "metadata": {
    "collapsed": true
   },
   "outputs": [],
   "source": [
    "def conv2d(x, W):\n",
    "  return tf.nn.conv2d(x, W, strides=[1, 1, 1, 1], padding='SAME')\n",
    "\n",
    "def max_pool_2x2(x):\n",
    "  return tf.nn.max_pool(x, ksize=[1, 2, 2, 1],\n",
    "                        strides=[1, 2, 2, 1], padding='SAME')"
   ]
  },
  {
   "cell_type": "code",
   "execution_count": 9,
   "metadata": {
    "collapsed": true
   },
   "outputs": [],
   "source": [
    "W_conv1 = weight_variable([5, 5, 1, 32])\n",
    "b_conv1 = bias_variable([32])"
   ]
  },
  {
   "cell_type": "code",
   "execution_count": 10,
   "metadata": {
    "collapsed": false
   },
   "outputs": [],
   "source": [
    "x_image = tf.reshape(x, [-1,28,28,1])"
   ]
  },
  {
   "cell_type": "code",
   "execution_count": 11,
   "metadata": {
    "collapsed": true
   },
   "outputs": [],
   "source": [
    "h_conv1 = tf.nn.relu(conv2d(x_image, W_conv1) + b_conv1)\n",
    "h_pool1 = max_pool_2x2(h_conv1)"
   ]
  },
  {
   "cell_type": "code",
   "execution_count": 12,
   "metadata": {
    "collapsed": true
   },
   "outputs": [],
   "source": [
    "W_conv2 = weight_variable([5, 5, 32, 64])\n",
    "b_conv2 = bias_variable([64])\n",
    "\n",
    "h_conv2 = tf.nn.relu(conv2d(h_pool1, W_conv2) + b_conv2)\n",
    "h_pool2 = max_pool_2x2(h_conv2)"
   ]
  },
  {
   "cell_type": "code",
   "execution_count": 13,
   "metadata": {
    "collapsed": true
   },
   "outputs": [],
   "source": [
    "W_fc1 = weight_variable([7 * 7 * 64, 1024])\n",
    "b_fc1 = bias_variable([1024])\n",
    "\n",
    "h_pool2_flat = tf.reshape(h_pool2, [-1, 7*7*64])\n",
    "h_fc1 = tf.nn.relu(tf.matmul(h_pool2_flat, W_fc1) + b_fc1)"
   ]
  },
  {
   "cell_type": "code",
   "execution_count": 14,
   "metadata": {
    "collapsed": true
   },
   "outputs": [],
   "source": [
    "keep_prob = tf.placeholder(tf.float32)\n",
    "h_fc1_drop = tf.nn.dropout(h_fc1, keep_prob)"
   ]
  },
  {
   "cell_type": "code",
   "execution_count": 15,
   "metadata": {
    "collapsed": false
   },
   "outputs": [],
   "source": [
    "W_fc2 = weight_variable([1024, 10])\n",
    "b_fc2 = bias_variable([10])\n",
    "\n",
    "y_conv = tf.matmul(h_fc1_drop, W_fc2) + b_fc2\n",
    "y_pred = tf.nn.softmax(y_conv)"
   ]
  },
  {
   "cell_type": "code",
   "execution_count": null,
   "metadata": {
    "collapsed": true
   },
   "outputs": [],
   "source": [
    "sess = tf.Session()"
   ]
  },
  {
   "cell_type": "code",
   "execution_count": null,
   "metadata": {
    "collapsed": false
   },
   "outputs": [],
   "source": [
    "cross_entropy = tf.reduce_mean(\n",
    "    tf.nn.softmax_cross_entropy_with_logits(labels=y_, logits=y_conv))\n",
    "train_step = tf.train.AdamOptimizer(1e-4).minimize(cross_entropy)\n",
    "correct_prediction = tf.equal(tf.argmax(y_conv,1), tf.argmax(y_,1))\n",
    "accuracy = tf.reduce_mean(tf.cast(correct_prediction, tf.float32))\n",
    "sess.run(tf.global_variables_initializer())\n",
    "for i in range(200):\n",
    "  batch = mnist.train.next_batch(50)\n",
    "  if i%100 == 0:\n",
    "    train_accuracy = accuracy.eval(feed_dict={\n",
    "        x:batch[0], y_: batch[1], keep_prob: 1.0})\n",
    "    print(\"step %d, training accuracy %g\"%(i, train_accuracy))\n",
    "  train_step.run(feed_dict={x: batch[0], y_: batch[1], keep_prob: 0.5})\n",
    "\n",
    "print(\"test accuracy %g\"%accuracy.eval(feed_dict={\n",
    "    x: mnist.test.images, y_: mnist.test.labels, keep_prob: 1.0}))"
   ]
  },
  {
   "cell_type": "code",
   "execution_count": null,
   "metadata": {
    "collapsed": false
   },
   "outputs": [],
   "source": [
    "prediction=tf.argmax(y_pred,1)\n",
    "prediction_val = prediction.eval(feed_dict={x: mnist.test.images[0: 10], keep_prob: 1.0}, session=sess)\n",
    "print(\"predictions\", prediction_val)"
   ]
  },
  {
   "cell_type": "code",
   "execution_count": null,
   "metadata": {
    "collapsed": false
   },
   "outputs": [],
   "source": [
    "probabilities=y_pred\n",
    "probabilities_val = probabilities.eval(feed_dict={x: mnist.test.images[0: 10], keep_prob: 1.0}, session=sess)\n",
    "print (\"probabilities\", probabilities_val)"
   ]
  },
  {
   "cell_type": "code",
   "execution_count": null,
   "metadata": {
    "collapsed": true
   },
   "outputs": [],
   "source": [
    "import matplotlib.pylab as plt\n",
    "%matplotlib inline"
   ]
  },
  {
   "cell_type": "code",
   "execution_count": null,
   "metadata": {
    "collapsed": true
   },
   "outputs": [],
   "source": [
    "img = mnist.test.images[0]"
   ]
  },
  {
   "cell_type": "code",
   "execution_count": null,
   "metadata": {
    "collapsed": false
   },
   "outputs": [],
   "source": [
    "img.shape"
   ]
  },
  {
   "cell_type": "code",
   "execution_count": null,
   "metadata": {
    "collapsed": true
   },
   "outputs": [],
   "source": [
    "import numpy as np"
   ]
  },
  {
   "cell_type": "code",
   "execution_count": null,
   "metadata": {
    "collapsed": false,
    "scrolled": false
   },
   "outputs": [],
   "source": [
    "for i in range(0, 10):\n",
    "    img = mnist.test.images[i]\n",
    "    print('correct label:', np.argmax(mnist.test.labels[i]))\n",
    "    print('predict label:', prediction_val[i])\n",
    "    print('predict prob:', np.max(probabilities_val[i]))\n",
    "    plt.imshow(img.reshape([28, 28]), cmap=plt.cm.binary)\n",
    "    plt.show()"
   ]
  },
  {
   "cell_type": "markdown",
   "metadata": {},
   "source": [
    "### Save model and load model"
   ]
  },
  {
   "cell_type": "code",
   "execution_count": 5,
   "metadata": {
    "collapsed": false
   },
   "outputs": [],
   "source": [
    "model_path = './MNIST.ckpt'"
   ]
  },
  {
   "cell_type": "code",
   "execution_count": null,
   "metadata": {
    "collapsed": false
   },
   "outputs": [],
   "source": [
    "save_path = tf.train.Saver().save(sess, model_path)\n",
    "print (\"Model saved in file: \", save_path)"
   ]
  },
  {
   "cell_type": "code",
   "execution_count": 17,
   "metadata": {
    "collapsed": false
   },
   "outputs": [
    {
     "name": "stdout",
     "output_type": "stream",
     "text": [
      "predictions [7 2 1 0 4 1 4 9 5 9]\n",
      "probabilities [[  8.18068220e-05   4.11334040e-05   3.46228735e-05   1.34565658e-03\n",
      "    1.48854524e-04   5.77240244e-05   1.62972974e-05   9.93151426e-01\n",
      "    2.44629860e-04   4.87781642e-03]\n",
      " [  6.60131546e-03   1.48299674e-03   8.46448004e-01   1.74781308e-02\n",
      "    3.46077359e-05   2.04211771e-02   9.37566385e-02   9.06111163e-05\n",
      "    1.34771997e-02   2.09279009e-04]\n",
      " [  1.20521159e-04   9.77806389e-01   1.16444391e-03   4.00960585e-03\n",
      "    2.25959509e-03   3.21169896e-03   1.23773084e-03   5.49518038e-03\n",
      "    2.89868517e-03   1.79617957e-03]\n",
      " [  9.73772705e-01   1.62673350e-05   1.06890286e-04   2.39913265e-04\n",
      "    1.21108633e-05   8.47359828e-04   2.36822832e-02   3.12390039e-04\n",
      "    3.64545005e-04   6.45469001e-04]\n",
      " [  2.33937302e-04   7.79437141e-06   1.16600066e-04   2.35907719e-04\n",
      "    9.85767663e-01   1.54923066e-04   2.66511313e-04   1.33092829e-03\n",
      "    8.64102098e-04   1.10215796e-02]\n",
      " [  1.38448186e-05   9.86447215e-01   4.38035408e-04   3.34791397e-03\n",
      "    1.19868002e-03   6.63842540e-04   4.69108694e-04   2.87327589e-03\n",
      "    3.65667092e-03   8.91504576e-04]\n",
      " [  6.17202895e-05   3.10044852e-04   1.44020290e-04   4.07510530e-03\n",
      "    9.48897004e-01   2.12588231e-03   2.23909246e-05   2.51662061e-02\n",
      "    1.32387141e-02   5.95891569e-03]\n",
      " [  6.57187367e-04   2.45848205e-03   6.23756973e-03   4.84572863e-03\n",
      "    2.48602182e-01   2.31739674e-02   1.23868482e-02   5.62297506e-03\n",
      "    6.06322140e-02   6.35382891e-01]\n",
      " [  6.06586821e-02   1.41232286e-03   2.67477203e-02   6.19850121e-03\n",
      "    4.71488945e-02   7.40242243e-01   2.79356632e-02   4.33002505e-03\n",
      "    4.00084034e-02   4.53175120e-02]\n",
      " [  2.92279129e-03   4.93584783e-04   2.17534052e-05   1.35998137e-03\n",
      "    1.11640289e-01   9.35944961e-04   1.12035521e-03   8.11368674e-02\n",
      "    1.65302865e-02   7.83838093e-01]]\n"
     ]
    }
   ],
   "source": [
    "with tf.Session() as sess:\n",
    "    sess.run(tf.global_variables_initializer())\n",
    "    tf.train.Saver().restore(sess, model_path)\n",
    "    prediction=tf.argmax(y_pred,1)\n",
    "    prediction_val = prediction.eval(feed_dict={x: mnist.test.images[0: 10], keep_prob: 1.0}, session=sess)\n",
    "    print(\"predictions\", prediction_val)\n",
    "    probabilities=y_pred\n",
    "    probabilities_val = probabilities.eval(feed_dict={x: mnist.test.images[0: 10], keep_prob: 1.0}, session=sess)\n",
    "    print (\"probabilities\", probabilities_val)"
   ]
  },
  {
   "cell_type": "code",
   "execution_count": null,
   "metadata": {
    "collapsed": true
   },
   "outputs": [],
   "source": []
  }
 ],
 "metadata": {
  "kernelspec": {
   "display_name": "Python 3",
   "language": "python",
   "name": "python3"
  },
  "language_info": {
   "codemirror_mode": {
    "name": "ipython",
    "version": 3
   },
   "file_extension": ".py",
   "mimetype": "text/x-python",
   "name": "python",
   "nbconvert_exporter": "python",
   "pygments_lexer": "ipython3",
   "version": "3.6.0"
  }
 },
 "nbformat": 4,
 "nbformat_minor": 2
}
